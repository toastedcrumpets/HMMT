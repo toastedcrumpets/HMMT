{
 "cells": [
  {
   "cell_type": "markdown",
   "metadata": {},
   "source": [
    "# Dependencies\n",
    "First, we check that the notebook is setup for rendering the simulations!"
   ]
  },
  {
   "cell_type": "code",
   "execution_count": 1,
   "metadata": {},
   "outputs": [
    {
     "name": "stdout",
     "output_type": "stream",
     "text": [
      "Everything good!\n"
     ]
    }
   ],
   "source": [
    "try:\n",
    "    import webgui_jupyter_widgets\n",
    "    from packaging.version import parse\n",
    "    assert parse(webgui_jupyter_widgets.__version__) >= parse(\"0.2.18\")\n",
    "    print('Everything good!')\n",
    "except:\n",
    "    print(\"\\x1b[31mYou need to update webgui_jupyter_widgets by running: \\x1b[0m\\npython3 -m pip install --upgrade webgui_jupyter_widgets\")"
   ]
  },
  {
   "cell_type": "markdown",
   "metadata": {},
   "source": [
    "Now we import the ngsolve library that we will use for the simulations."
   ]
  },
  {
   "cell_type": "code",
   "execution_count": 2,
   "metadata": {},
   "outputs": [],
   "source": [
    "from ngsolve import *\n",
    "from ngsolve.webgui import Draw\n",
    "from netgen.occ import *   # Opencascade for geometry modeling"
   ]
  },
  {
   "cell_type": "markdown",
   "metadata": {},
   "source": [
    "# Setting up the Simulation\n",
    "\n",
    "The first task is to setup a mesh that we can simulate our equations on.\n",
    "\n",
    "## The geometry\n",
    "We're going to look at conduction inside a circle (imagine a slice from a steel bar), with convection on the outside. So lets create a circular mesh."
   ]
  },
  {
   "cell_type": "code",
   "execution_count": 17,
   "metadata": {},
   "outputs": [
    {
     "data": {
      "application/vnd.jupyter.widget-view+json": {
       "model_id": "493f0a4ccdf14a7f9a4fe5195816f0e2",
       "version_major": 2,
       "version_minor": 0
      },
      "text/plain": [
       "WebGuiWidget(layout=Layout(height='500px', width='100%'), value={'gui_settings': {}, 'ngsolve_version': '6.2.2…"
      ]
     },
     "metadata": {},
     "output_type": "display_data"
    },
    {
     "data": {
      "text/plain": [
       "BaseWebGuiScene"
      ]
     },
     "execution_count": 17,
     "metadata": {},
     "output_type": "execute_result"
    }
   ],
   "source": [
    "# Make a radius 1 circle\n",
    "geom = Circle((0,0), 1).Face()\n",
    "# Turn it into a 2D mesh, with triangles with a maximum edge length of 0.1\n",
    "mesh = Mesh(OCCGeometry(geom, dim=2).GenerateMesh(maxh=0.1))\n",
    "Draw(mesh)"
   ]
  },
  {
   "cell_type": "markdown",
   "metadata": {},
   "source": [
    "## The equations\n",
    "\n",
    "We now need to generate a finite element space where we're going to solve our\n",
    "equations on. This is different to the mesh, as the points of the mesh might be\n",
    "mapped onto the equations in many different ways."
   ]
  },
  {
   "cell_type": "code",
   "execution_count": 20,
   "metadata": {},
   "outputs": [
    {
     "data": {
      "text/plain": [
       "1442"
      ]
     },
     "execution_count": 20,
     "metadata": {},
     "output_type": "execute_result"
    }
   ],
   "source": [
    "fes = H1(mesh, order=2, dirichlet=\"default\")\n",
    "fes.ndof"
   ]
  },
  {
   "cell_type": "markdown",
   "metadata": {},
   "source": [
    "The equations themselves are the heat diffusion equation\n",
    "$$\n",
    "\\rho\\,C_p\\frac{\\partial T}{\\partial t} = -\\rho\\,C_p\\,\\bm{v}\n",
    "  \\cdot\\nabla\\,T - \\nabla\\cdot\\bm{q} - \\bm{\\tau}:\\nabla\\,\\bm{v} -\n",
    "  p\\,\\nabla\\cdot\\bm{v} +\\sigma_{energy}\n",
    "$$\n",
    "\n",
    "which for stationary solids $\\bm{v}=0$, becomes\n",
    "\n",
    "$$\n",
    "\\rho\\,C_p\\frac{\\partial T}{\\partial t} = - \\nabla\\cdot\\bm{q} +\\sigma_{energy}\n",
    "$$\n",
    "\n",
    "Inserting fourier's law,\n",
    "$$\n",
    "\\rho\\,C_p\\frac{\\partial T}{\\partial t} = - k\\nabla\\cdot\\nabla\\bm{T} +\\sigma_{energy}\n",
    "$$\n",
    "\n",
    "To make this a finite element problem, we define a trial function $v$ we \"project\" this equation onto\n",
    "\n",
    "$$\n",
    "\\int_{\\Omega} \\rho\\,C_p\\frac{\\partial T}{\\partial t} v \\,{\\rm d}\\bm{r} + \\int_{\\Omega} (k\\nabla\\cdot\\nabla\\bm{T})\\,v\\,{\\rm d}\\bm{r} =  \\int_{\\Omega}\\sigma_{energy}\\,v\\,{\\rm d}\\bm{r}\n",
    "$$\n",
    "\n",
    "where this is an integration over the whole domain, $\\Omega$. We can then use the integration by parts identity\n",
    "\n",
    "$$\n",
    "[u'\\, v]_{\\Omega} = \\int_{\\Omega} u'\\,v'\\,{\\rm d}\\bm{r} +  \\int_{\\Omega} u''\\,v\\,{\\rm d}\\bm{r} \n",
    "$$"
   ]
  },
  {
   "cell_type": "markdown",
   "metadata": {},
   "source": []
  }
 ],
 "metadata": {
  "kernelspec": {
   "display_name": ".venv",
   "language": "python",
   "name": "python3"
  },
  "language_info": {
   "codemirror_mode": {
    "name": "ipython",
    "version": 3
   },
   "file_extension": ".py",
   "mimetype": "text/x-python",
   "name": "python",
   "nbconvert_exporter": "python",
   "pygments_lexer": "ipython3",
   "version": "3.10.12"
  }
 },
 "nbformat": 4,
 "nbformat_minor": 2
}
