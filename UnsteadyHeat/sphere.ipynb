{
 "cells": [
  {
   "cell_type": "markdown",
   "metadata": {},
   "source": [
    "# Dependencies\n",
    "First, we check that the notebook is setup for rendering the simulations!"
   ]
  },
  {
   "cell_type": "code",
   "execution_count": 1,
   "metadata": {},
   "outputs": [
    {
     "name": "stdout",
     "output_type": "stream",
     "text": [
      "Everything good!\n"
     ]
    }
   ],
   "source": [
    "try:\n",
    "    import webgui_jupyter_widgets\n",
    "    from packaging.version import parse\n",
    "    assert parse(webgui_jupyter_widgets.__version__) >= parse(\"0.2.18\")\n",
    "    print('Everything good!')\n",
    "except:\n",
    "    print(\"\\x1b[31mYou need to update webgui_jupyter_widgets by running: \\x1b[0m\\npython3 -m pip install --upgrade webgui_jupyter_widgets\")"
   ]
  },
  {
   "cell_type": "markdown",
   "metadata": {},
   "source": [
    "Now we import the ngsolve library that we will use for the simulations."
   ]
  },
  {
   "cell_type": "code",
   "execution_count": 2,
   "metadata": {},
   "outputs": [],
   "source": [
    "from ngsolve import *\n",
    "from ngsolve.webgui import Draw\n",
    "from netgen.occ import *   # Opencascade for geometry modeling"
   ]
  },
  {
   "cell_type": "markdown",
   "metadata": {},
   "source": [
    "# Setting up the Simulation\n",
    "\n",
    "The first task is to setup a mesh that we can simulate our equations on.\n",
    "\n",
    "## The geometry\n",
    "We're going to look at conduction inside a circle (imagine a slice from a steel bar), with convection on the outside. So lets create a circular mesh."
   ]
  },
  {
   "cell_type": "code",
   "execution_count": 3,
   "metadata": {},
   "outputs": [
    {
     "data": {
      "application/vnd.jupyter.widget-view+json": {
       "model_id": "e9c12f54882c4332b05c316af634e078",
       "version_major": 2,
       "version_minor": 0
      },
      "text/plain": [
       "WebGuiWidget(layout=Layout(height='500px', width='100%'), value={'gui_settings': {}, 'ngsolve_version': '6.2.2…"
      ]
     },
     "metadata": {},
     "output_type": "display_data"
    },
    {
     "data": {
      "text/plain": [
       "BaseWebGuiScene"
      ]
     },
     "execution_count": 3,
     "metadata": {},
     "output_type": "execute_result"
    }
   ],
   "source": [
    "# Make a radius 1 circle\n",
    "geom = Circle((0,0), 1).Face()\n",
    "geom.edges.name = \"outeredge\"\n",
    "# Turn it into a 2D mesh, with triangles with a maximum edge length of 0.1\n",
    "mesh = Mesh(OCCGeometry(geom, dim=2).GenerateMesh(maxh=0.1))\n",
    "Draw(mesh)"
   ]
  },
  {
   "cell_type": "markdown",
   "metadata": {},
   "source": [
    "## The equations\n",
    "\n",
    "We now need to generate a finite element space where we're going to solve our\n",
    "equations on. This is different to the mesh, as the points of the mesh might be\n",
    "mapped onto the equations in many different ways."
   ]
  },
  {
   "cell_type": "code",
   "execution_count": 4,
   "metadata": {},
   "outputs": [
    {
     "data": {
      "text/plain": [
       "1442"
      ]
     },
     "execution_count": 4,
     "metadata": {},
     "output_type": "execute_result"
    }
   ],
   "source": [
    "fes = H1(mesh, order=2)\n",
    "fes.ndof"
   ]
  },
  {
   "cell_type": "markdown",
   "metadata": {},
   "source": [
    "The equations themselves are the heat diffusion equation\n",
    "$$\n",
    "\\rho\\,C_p\\frac{\\partial T}{\\partial t} = -\\rho\\,C_p\\,\\bm{v}\n",
    "  \\cdot\\nabla\\,T - \\nabla\\cdot\\bm{q} - \\bm{\\tau}:\\nabla\\,\\bm{v} -\n",
    "  p\\,\\nabla\\cdot\\bm{v} +\\sigma_{energy}\n",
    "$$\n",
    "\n",
    "which for stationary solids $\\bm{v}=0$, becomes\n",
    "\n",
    "$$\n",
    "\\rho\\,C_p\\frac{\\partial T}{\\partial t} = - \\nabla\\cdot\\bm{q} +\\sigma_{energy}\n",
    "$$\n",
    "\n",
    "Inserting fourier's law,\n",
    "$$\n",
    "\\rho\\,C_p\\frac{\\partial T}{\\partial t} = \\nabla\\cdot k\\nabla\\bm{T} +\\sigma_{energy}\n",
    "$$\n",
    "\n",
    "To make this a finite element problem, we define a trial function $v$ we\n",
    "\"project\" this equation onto. We are creating the so-called weak form of the\n",
    "equation where it applies to a test function.\n",
    "\n",
    "$$\n",
    "\\int_{\\Omega} \\rho\\,C_p\\frac{\\partial T}{\\partial t} v \\,{\\rm d}\\Omega - \\int_{\\Omega} (\\nabla\\cdot k\\nabla\\bm{T})\\,v\\,{\\rm d}\\Omega =  \\int_{\\Omega}\\sigma_{energy}\\,v\\,{\\rm d}\\Omega\n",
    "$$\n",
    "\n",
    "where the volume integrals are over the domain $\\Omega$.\n",
    "\n",
    "We need to create an identity here to help us with the next step."
   ]
  },
  {
   "cell_type": "markdown",
   "metadata": {},
   "source": [
    "### The identity\n",
    "The first identity we need is divergence theorem\n",
    "\n",
    "$$ \\int_\\Omega \\nabla\\cdot\\bm{F}\\,{\\rm d}\\Omega = \\int_{d\\Omega} \\bm{F}\\cdot\\hat{n}\\,{\\rm d}S $$\n",
    "\n",
    "where the RHS is a surface integral. To make the identity we need, we make the substitution $\\bm{F}\\to v\\nabla u$.\n",
    "\n",
    "$$ \\int_\\Omega \\nabla\\cdot (v\\nabla u)\\,{\\rm d}\\Omega = \\int_{d\\Omega} (v\\nabla u)\\cdot\\hat{n}\\,{\\rm d}S $$\n",
    "\n",
    "Expanding the LHS\n",
    "\n",
    "$$ \\int_\\Omega (\\nabla v) \\cdot (\\nabla u)\\,{\\rm d}\\Omega + \\int_\\Omega v\\,\\nabla\\cdot\\nabla u\\,{\\rm d}\\Omega = \\int_{d\\Omega} (v\\nabla u)\\cdot\\hat{n}\\,{\\rm d}S $$\n",
    "\n",
    "We note the RHS is a projection of the derivatives onto the normal direction, so we write\n",
    "\n",
    "$$ \\int_\\Omega (\\nabla v) \\cdot (\\nabla u)\\,{\\rm d}\\Omega + \\int_\\Omega v\\,\\nabla\\cdot\\nabla u\\,{\\rm d}\\Omega = \\int_{d\\Omega} v \\frac{\\partial u}{\\partial n}\\,{\\rm d}S $$\n",
    "\n",
    "Then we rearrange into the exact form we need\n",
    "\n",
    "$$ \\int_\\Omega (\\nabla\\cdot\\nabla u)\\,v\\,{\\rm d}\\Omega = \\int_{d\\Omega} v \\frac{\\partial u}{\\partial n}\\,{\\rm d}S - \\int_\\Omega (\\nabla v) \\cdot (\\nabla u)\\,{\\rm d}\\Omega $$"
   ]
  },
  {
   "cell_type": "markdown",
   "metadata": {},
   "source": [
    "### The final weak form\n",
    "\n",
    "Using this identity we can split out the fourier term\n",
    "\n",
    "$$\n",
    "\\int_{\\Omega} \\rho\\,C_p\\frac{\\partial T}{\\partial t} v \\,{\\rm d}\\Omega - \\int_{\\Omega} (\\nabla\\cdot k\\nabla\\bm{T})\\,v\\,{\\rm d}\\Omega =  \\int_{\\Omega}\\sigma_{energy}\\,v\\,{\\rm d}\\Omega\n",
    "$$\n",
    "\n",
    "$$\n",
    "\\int_{\\Omega} \\rho\\,C_p\\frac{\\partial T}{\\partial t} v \\,{\\rm d}\\Omega - \\int_{d\\Omega} v k\\frac{\\partial T}{\\partial n}\\,{\\rm d}S + \\int_\\Omega (\\nabla v) \\cdot (k\\nabla T)\\,{\\rm d}\\Omega =  \\int_{\\Omega}\\sigma_{energy}\\,v\\,{\\rm d}\\bm{r}\n",
    "$$\n",
    "\n",
    "\n",
    "### Inserting a Robin boundary condition\n",
    "Lets use a heat transfer coefficient for the BC\n",
    "\n",
    "$$\n",
    "-k\\frac{\\partial T}{\\partial n}=  h (T - T_\\infty)\n",
    "$$\n",
    "\n",
    "Inserting\n",
    "\n",
    "$$\n",
    "\\int_{\\Omega} \\rho\\,C_p\\frac{\\partial T}{\\partial t} v \\,{\\rm d}\\Omega + \\int_{d\\Omega} v\\,h\\,(T - T_\\infty){\\rm d}S + \\int_\\Omega (\\nabla v) \\cdot (k\\nabla T)\\,{\\rm d}\\Omega =  \\int_{\\Omega}\\sigma_{energy}\\,v\\,{\\rm d}\\bm{r}\n",
    "$$\n",
    "\n",
    "Splitting this into linear (RHS, terms without $T$) and bilinear (LHS, terms with $T$) halves\n",
    "\n",
    "$$\n",
    "\\int_{\\Omega} \\rho\\,C_p\\frac{\\partial T}{\\partial t} v \\,{\\rm d}\\Omega + \\int_{d\\Omega} v\\,h\\,T{\\rm d}S + \\int_\\Omega (\\nabla v) \\cdot (k\\nabla T)\\,{\\rm d}\\Omega =  \\int_{\\Omega}\\sigma_{energy}\\,v\\,{\\rm d}\\Omega +\\int_{d\\Omega} v\\,h\\,T_\\infty{\\rm d}S\n",
    "$$\n"
   ]
  },
  {
   "cell_type": "markdown",
   "metadata": {},
   "source": [
    "## Steady State solution\n",
    "\n",
    "Lets setup a simulation that solves for the steady state first. Below we create the trial ($u=T$) and test ($v$) functions, then set up the bilinear terms (LHS above, all terms involving the trial function T) and the linear terms (all other terms on RHS). Then we solve."
   ]
  },
  {
   "cell_type": "code",
   "execution_count": 5,
   "metadata": {},
   "outputs": [
    {
     "data": {
      "application/vnd.jupyter.widget-view+json": {
       "model_id": "81637e8cb1524c1e844f84449f94d4e8",
       "version_major": 2,
       "version_minor": 0
      },
      "text/plain": [
       "WebGuiWidget(layout=Layout(height='500px', width='100%'), value={'gui_settings': {}, 'ngsolve_version': '6.2.2…"
      ]
     },
     "metadata": {},
     "output_type": "display_data"
    },
    {
     "data": {
      "text/plain": [
       "BaseWebGuiScene"
      ]
     },
     "execution_count": 5,
     "metadata": {},
     "output_type": "execute_result"
    }
   ],
   "source": [
    "T, v = fes.TnT()\n",
    "k=1\n",
    "h=1\n",
    "sigma = 2\n",
    "Tinf = 5\n",
    "\n",
    "a = BilinearForm(fes) # This is the LHS of the equation, without the time derivative\n",
    "a += grad(v) * k * grad(T)*dx\n",
    "a += v * h * T * ds(\"outeredge\") \n",
    "a.Assemble()\n",
    "\n",
    "# Now this is the RHS of the equation\n",
    "f = LinearForm(sigma*v*dx + v*h*Tinf*ds(\"outeredge\")).Assemble()\n",
    "\n",
    "# Here we solve it using a matrix inversion\n",
    "gfu = GridFunction(fes)\n",
    "gfu.vec.data = a.mat.Inverse() * f.vec\n",
    "Draw(gfu)"
   ]
  },
  {
   "cell_type": "markdown",
   "metadata": {},
   "source": [
    "## Unsteady state solution\n",
    "\n",
    "For unsteady state we need to get a weak form of the integration. Start with the full expression:\n",
    "\n",
    "$$\n",
    "\\int_{\\Omega} \\rho\\,C_p\\frac{\\partial T}{\\partial t} v \\,{\\rm d}\\Omega + \\int_{d\\Omega} v\\,h\\,T{\\rm d}S + \\int_\\Omega (\\nabla v) \\cdot (k\\nabla T)\\,{\\rm d}\\Omega =  \\int_{\\Omega}\\sigma_{energy}\\,v\\,{\\rm d}\\Omega +\\int_{d\\Omega} v\\,h\\,T_\\infty{\\rm d}S\n",
    "$$\n",
    "\n",
    "We replace the time derivative with an implicit Euler, which means that all\n",
    "temperatures are now evalulated in the next time step. Implicit Euler is chosen\n",
    "as its generally quite stable compared to other schemes, but needs a full\n",
    "inversion to work.\n",
    "\n",
    "$$\n",
    "\\int_{\\Omega} \\rho\\,C_p\\frac{\\left(T_{n+1} - T_{n}\\right)}{\\Delta t} v \\,{\\rm d}\\Omega + \\int_{d\\Omega} v\\,h\\,T_{n+1}{\\rm d}S + \\int_\\Omega (\\nabla v) \\cdot (k\\nabla T_{n+1})\\,{\\rm d}\\Omega =  \\int_{\\Omega}\\sigma_{energy}\\,v\\,{\\rm d}\\Omega +\\int_{d\\Omega} v\\,h\\,T_\\infty{\\rm d}S\n",
    "$$\n",
    "\n",
    "The term involving the previous time step is now no-longer a function of the current trial function $T_{n+1}$ so we move it over to the linear side.\n",
    "\n",
    "$$\n",
    "\\int_{\\Omega} \\rho\\,C_p\\frac{T_{n+1}}{\\Delta t} v \\,{\\rm d}\\Omega + \\int_{d\\Omega} v\\,h\\,T_{n+1}{\\rm d}S + \\int_\\Omega (\\nabla v) \\cdot (k\\nabla T_{n+1})\\,{\\rm d}\\Omega =  \\int_{\\Omega}\\sigma_{energy}\\,v\\,{\\rm d}\\Omega +\\int_{d\\Omega} v\\,h\\,T_\\infty{\\rm d}S + \\int_{\\Omega} \\rho\\,C_p\\frac{T_{n}}{\\Delta t} v \\,{\\rm d}\\Omega\n",
    "$$\n",
    "\n",
    "\n",
    "$$\n",
    "\\int_{\\Omega} \\left[\\rho\\,C_p\\frac{T_{n+1}}{\\Delta t} v+(\\nabla v) \\cdot (k\\nabla T_{n+1})\\right]\\,{\\rm d}\\Omega  + \\int_{d\\Omega} v\\,h\\,T_{n+1}\\,{\\rm d}S =  \\int_{\\Omega}\\left[\\sigma_{energy}\\,v +\\rho\\,C_p\\frac{T_{n}}{\\Delta t} v\\right]{\\rm d}\\Omega +\\int_{d\\Omega} v\\,h\\,T_\\infty{\\rm d}S \n",
    "$$\n"
   ]
  },
  {
   "cell_type": "code",
   "execution_count": 10,
   "metadata": {},
   "outputs": [
    {
     "data": {
      "application/vnd.jupyter.widget-view+json": {
       "model_id": "bccde3b256b74fa1a993b09999f5c6b7",
       "version_major": 2,
       "version_minor": 0
      },
      "text/plain": [
       "WebGuiWidget(layout=Layout(height='500px', width='100%'), value={'gui_settings': {}, 'ngsolve_version': '6.2.2…"
      ]
     },
     "metadata": {},
     "output_type": "display_data"
    }
   ],
   "source": [
    "T_last = GridFunction(fes)\n",
    "T_last.Set(100)\n",
    "\n",
    "rho = 1000\n",
    "Cp = 4.18\n",
    "dt = 0.1\n",
    "\n",
    "a = BilinearForm(fes) # This is the LHS of the equation, WITH time derivatives\n",
    "a += (rho / dt * Cp) * T * v * dx\n",
    "a += grad(v) * k * grad(T)*dx\n",
    "a += v * h * T * ds(\"outeredge\") \n",
    "a.Assemble()\n",
    "\n",
    "# Now this is the RHS of the equation\n",
    "f = LinearForm(fes)\n",
    "f += sigma*v*dx \n",
    "f += v * h * Tinf * ds(\"outeredge\")\n",
    "f += rho * Cp / dt * T_last * v * dx \n",
    "f.Assemble()\n",
    "\n",
    "# Here we solve it using a matrix inversion\n",
    "gfu = GridFunction(fes)\n",
    "gfu.vec.data = a.mat.Inverse() * f.vec\n",
    "\n",
    "scene = Draw(gfu, mesh, \"T\")"
   ]
  },
  {
   "cell_type": "code",
   "execution_count": null,
   "metadata": {},
   "outputs": [],
   "source": []
  }
 ],
 "metadata": {
  "kernelspec": {
   "display_name": ".venv",
   "language": "python",
   "name": "python3"
  },
  "language_info": {
   "codemirror_mode": {
    "name": "ipython",
    "version": 3
   },
   "file_extension": ".py",
   "mimetype": "text/x-python",
   "name": "python",
   "nbconvert_exporter": "python",
   "pygments_lexer": "ipython3",
   "version": "3.10.12"
  }
 },
 "nbformat": 4,
 "nbformat_minor": 2
}
